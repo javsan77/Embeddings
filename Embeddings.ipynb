 #Library Transformers
!pip install Transformers

# Import the necessary class
from transformers import AutoModel

# Import the necessary class
from transformers import AutoTokenizer

# Load Model and Tokenizer
model = AutoModel.from_pretrained("bert-base-uncased")

# Load a pre trained Tokenizer
tokenizer = AutoTokenizer.from_pretrained("bert-base-uncased")

# Input text
text = "Hello, I'm learning about language model"

# Encode text
inputs = tokenizer(text, return_tensors="pt") # it returns tensors pytorch
output = model(**inputs)

# Word embeddings
embeddings = output.last_hidden_state
print("Shape of the embeddings: ", embeddings.shape)
